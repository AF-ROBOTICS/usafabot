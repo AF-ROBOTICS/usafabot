{
 "cells": [
  {
   "cell_type": "markdown",
   "id": "5c3a9c29",
   "metadata": {},
   "source": [
    "# Module 1: Robotics Operating System (ROS)\n",
    "## In-Class Exercise 1 - ROS\n",
    "Below you will see the ROS commands you will use throughout this course to investigate your ROS system and write your lab reports. The \"!\" character in the front allows us to run bash commands from Jupyter and would **NOT** be used in the command line.\n",
    "\n",
    "With the talker and listener nodes running execute the below commands."
   ]
  },
  {
   "cell_type": "markdown",
   "id": "0fb0d5a3",
   "metadata": {},
   "source": [
    "List all running nodes:"
   ]
  },
  {
   "cell_type": "code",
   "execution_count": null,
   "id": "6aaf5293",
   "metadata": {},
   "outputs": [],
   "source": [
    "!rosnode list"
   ]
  },
  {
   "cell_type": "markdown",
   "id": "05ec3a17",
   "metadata": {},
   "source": [
    "You should see the listener and talker nodes. The */rosout* node is created when running `roscore` and facilitates communication in the network. You can ignore this node in your lab reports.\n",
    "\n",
    "Get more information about the */listener* node:"
   ]
  },
  {
   "cell_type": "code",
   "execution_count": null,
   "id": "9ccc55d6",
   "metadata": {},
   "outputs": [],
   "source": [
    "!rosnode info /listener"
   ]
  },
  {
   "cell_type": "markdown",
   "id": "ba320567",
   "metadata": {},
   "source": [
    "You can see what topics the node is publishing and subscribing to. It publishes to the ROS log file (for debugging) and subscribes to the **/chat** topic.\n",
    "\n",
    "List the active topics:"
   ]
  },
  {
   "cell_type": "code",
   "execution_count": null,
   "id": "4c44811f",
   "metadata": {},
   "outputs": [],
   "source": [
    "!rostopic list"
   ]
  },
  {
   "cell_type": "markdown",
   "id": "c3e72629",
   "metadata": {},
   "source": [
    "The first topic is the one we created. The last two are created by `roscore` and can be ignored.\n",
    "\n",
    "Show information about the **/chat** topic such as what type of messages are sent over the topic and publishing and subscribing nodes.\n",
    "\n"
   ]
  },
  {
   "cell_type": "code",
   "execution_count": null,
   "id": "27d20068",
   "metadata": {},
   "outputs": [],
   "source": [
    "!rostopic info /chat"
   ]
  },
  {
   "cell_type": "markdown",
   "id": "97475768",
   "metadata": {},
   "source": [
    "As expected, the *talker* node is publishing to the **/chat** topic while the *listener* node subscribes.\n",
    "\n",
    "Display running nodes and communication between them:"
   ]
  },
  {
   "cell_type": "code",
   "execution_count": null,
   "id": "572a6a22",
   "metadata": {},
   "outputs": [],
   "source": [
    "!rqt_graph"
   ]
  },
  {
   "cell_type": "markdown",
   "id": "265a01bd",
   "metadata": {},
   "source": [
    "Close the rqt_graph."
   ]
  },
  {
   "cell_type": "markdown",
   "id": "1dad4880",
   "metadata": {},
   "source": [
    "Display information about the message that is sent over the **/chat** topic."
   ]
  },
  {
   "cell_type": "code",
   "execution_count": null,
   "id": "7f98dee7",
   "metadata": {},
   "outputs": [],
   "source": [
    "!rostopic type /chat | rosmsg show"
   ]
  },
  {
   "cell_type": "markdown",
   "id": "d3b76a12",
   "metadata": {},
   "source": [
    "The output of the command is the same as the information we saw from the ROS documentation. Again, to access the message we have to use the `data` attribute."
   ]
  },
  {
   "cell_type": "markdown",
   "id": "7bfdcd55",
   "metadata": {},
   "source": [
    "Display messages sent over the **/chat** topic:"
   ]
  },
  {
   "cell_type": "code",
   "execution_count": null,
   "id": "4b865868",
   "metadata": {},
   "outputs": [],
   "source": [
    "!rostopic echo /chat"
   ]
  },
  {
   "cell_type": "markdown",
   "id": "28d4d12f",
   "metadata": {},
   "source": [
    "In the ICE1_Talker notebook send a message to the listener. You should see that message show up both here and at the listener. This echo tool is useful to ensure your nodes are sending the messages as expected.\n",
    "\n",
    "### Checkpoint\n",
    "Once complete, get checked off by an instructor showing the output of each of the above."
   ]
  },
  {
   "cell_type": "markdown",
   "id": "e0a1214f",
   "metadata": {},
   "source": [
    "## Cleanup\n",
    "In each of the notebooks reset the Jupyter kernel and clear output (at the top menu bar select \"Kernel\" and \"Restart & Clear Output\"). Close each notebook. Shutdown the notebook server by typing `ctrl+c` within the terminal you ran `jupyter-notebook` in. Select 'y'."
   ]
  }
 ],
 "metadata": {
  "kernelspec": {
   "display_name": "Python 3 (ipykernel)",
   "language": "python",
   "name": "python3"
  },
  "language_info": {
   "codemirror_mode": {
    "name": "ipython",
    "version": 3
   },
   "file_extension": ".py",
   "mimetype": "text/x-python",
   "name": "python",
   "nbconvert_exporter": "python",
   "pygments_lexer": "ipython3",
   "version": "3.8.10"
  },
  "toc": {
   "base_numbering": 1,
   "nav_menu": {},
   "number_sections": true,
   "sideBar": true,
   "skip_h1_title": false,
   "title_cell": "Table of Contents",
   "title_sidebar": "Contents",
   "toc_cell": false,
   "toc_position": {},
   "toc_section_display": true,
   "toc_window_display": false
  }
 },
 "nbformat": 4,
 "nbformat_minor": 5
}
