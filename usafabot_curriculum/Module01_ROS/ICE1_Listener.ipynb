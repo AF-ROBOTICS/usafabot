{
 "cells": [
  {
   "cell_type": "markdown",
   "id": "05e50ad6",
   "metadata": {},
   "source": [
    "# Module 1: Robotics Operating System (ROS)\n",
    "## In-Class Exercise 1 - Listener\n",
    "---\n",
    "### A note on this document\n",
    "This document is known as a Jupyter Notebook; it is used in academia and industry to allow text and executable code to coexist in a very easy to read format. Blocks can contain text or code, and for blocks containing code, press `Shift + Enter` to run the code. Earlier blocks of code need to be run for the later blocks of code to work."
   ]
  },
  {
   "cell_type": "markdown",
   "id": "f888e9eb",
   "metadata": {},
   "source": [
    "### Implementing the chat subscriber\n",
    "\n",
    "#### Import modules\n",
    "\n",
    "**Important**: Importing classes may take some time. You will know the code block is still executing as the bracket on the left of the cell will change to a `*` character. Do not move to the next step until the `*` is gone."
   ]
  },
  {
   "cell_type": "code",
   "execution_count": 1,
   "id": "b820f66c",
   "metadata": {},
   "outputs": [],
   "source": [
    "# import required modules\n",
    "import rospy\n",
    "from std_msgs.msg import String"
   ]
  },
  {
   "cell_type": "markdown",
   "id": "1c2130d2",
   "metadata": {},
   "source": [
    "#### Listener Function\n",
    "This function will create the subscriber (\"listener\") used to receive chat messages from the publisher (\"talker\")."
   ]
  },
  {
   "cell_type": "code",
   "execution_count": 2,
   "id": "101f7b1d",
   "metadata": {},
   "outputs": [],
   "source": [
    "def listener():\n",
    "    rospy.Subscriber('chat', String, callback_chat)"
   ]
  },
  {
   "cell_type": "markdown",
   "id": "1b830240",
   "metadata": {},
   "source": [
    "The above function creates the subscriber to the **/chat** topic. Every time a *String* message is sent over the topic the `callback_chat()` function is called. This is an interrupt that spins a new thread to call that function."
   ]
  },
  {
   "cell_type": "markdown",
   "id": "4bee40c5",
   "metadata": {},
   "source": [
    "#### Callback function\n",
    "The callback function will log and display what the chat listener sent."
   ]
  },
  {
   "cell_type": "code",
   "execution_count": 3,
   "id": "c238a992",
   "metadata": {},
   "outputs": [],
   "source": [
    "def callback_chat(message):\n",
    "    rospy.loginfo(rospy.get_caller_id() + \" I heard %s\", message.data)"
   ]
  },
  {
   "cell_type": "markdown",
   "id": "38c950c2",
   "metadata": {},
   "source": [
    "The callback function receives the *String* message as an input (you can name this parameter anything, but it is helpful if it is a meaningful variable name). To access the actual message, we need to utilize the data attribute of the *String* message. If you browse to the documentation for the [String Mesage](http://docs.ros.org/en/noetic/api/std_msgs/html/msg/String.html), you will note that the message attribute is called *data* and it is of type *string*. This is why we use the command `message.data`."
   ]
  },
  {
   "cell_type": "markdown",
   "id": "6b2dd3b2",
   "metadata": {},
   "source": [
    "#### Main"
   ]
  },
  {
   "cell_type": "code",
   "execution_count": null,
   "id": "88ed264a",
   "metadata": {},
   "outputs": [],
   "source": [
    "def main():\n",
    "    rospy.init_node('listener')\n",
    "    try:\n",
    "        listener()\n",
    "        rospy.spin()\n",
    "    except rospy.ROSInterruptException:\n",
    "        pass"
   ]
  },
  {
   "cell_type": "markdown",
   "id": "fbf5ed48",
   "metadata": {},
   "source": [
    "The above is similar to the talker, but adds the `rospy.spin()` function call to create an infinite loop to allow the subscriber to operate in the background.\n",
    "\n",
    "In an actual Python script we will replace \n",
    "```python\n",
    "def main()\n",
    "``` \n",
    "with \n",
    "```python\n",
    "if __name__ == \"__main__\":\n",
    "```\n",
    "This allows our python files to be imported into other python files that might also have a main() function."
   ]
  },
  {
   "cell_type": "markdown",
   "id": "d8e8dee8",
   "metadata": {},
   "source": [
    "#### Run the listener"
   ]
  },
  {
   "cell_type": "code",
   "execution_count": null,
   "id": "691b2e5f",
   "metadata": {},
   "outputs": [],
   "source": [
    "main()"
   ]
  },
  {
   "cell_type": "markdown",
   "id": "9dd9558c",
   "metadata": {},
   "source": [
    "At this point, the subscriber is waiting for the publisher to send a message. Browse back to your talker and type a message! You should see that message show up above after hitting `enter` in the talker Notebook."
   ]
  }
 ],
 "metadata": {
  "kernelspec": {
   "display_name": "Python 3",
   "language": "python",
   "name": "python3"
  },
  "language_info": {
   "codemirror_mode": {
    "name": "ipython",
    "version": 3
   },
   "file_extension": ".py",
   "mimetype": "text/x-python",
   "name": "python",
   "nbconvert_exporter": "python",
   "pygments_lexer": "ipython3",
   "version": "3.8.8"
  }
 },
 "nbformat": 4,
 "nbformat_minor": 5
}
