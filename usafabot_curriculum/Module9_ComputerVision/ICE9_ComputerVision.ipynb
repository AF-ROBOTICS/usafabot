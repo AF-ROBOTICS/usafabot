{
 "cells": [
  {
   "cell_type": "markdown",
   "id": "edfba5c0",
   "metadata": {},
   "source": [
    "# Module 9: Computer Vision\n",
    "---"
   ]
  },
  {
   "cell_type": "markdown",
   "id": "e4f8bc27",
   "metadata": {},
   "source": [
    "## Image Basics\n",
    "When we talk about the sizes of images, we generally talk about them in terms of the number of pixels the image possesses in the x(horizontal) or y(vertical) direction.  If the image is a color image, we also need to concern ourselves with the depth of the image as well.  Normally, each individual pixel is represented by the “color” or the “intensity” of light that appears in a given place in our image.\n",
    "\n",
    "If we think of an image as a grid, each square in the grid contains a single pixel.\n",
    "\n",
    "Most pixels are represented in two ways: grayscale and color. In a grayscale image, each pixel has a value between 0 and 255, where zero is corresponds to “black” and 255 being “white”. The values in between 0 and 255 are varying shades of gray, where values closer to 0 are darker and values closer 255 are lighter:\n",
    "\n",
    "<img src=\"Figures/Grayscale.JPG\" width=\"400\" height=\"195.89\">\n",
    "\n",
    "The grayscale gradient image in the figure above demonstrates darker pixels on the left-hand side and progressively lighter pixels on the right-hand side.\n",
    "\n",
    "Color pixels, however, are normally represented in the RGB color space (this is where the term color-depth comes from)— one value for the Red component, one for Green, and one for Blue, leading to a total of 3 values per pixel:\n",
    "\n",
    "<img src=\"Figures/RGB.JPG\" width=\"300\" height=\"195.89\">\n",
    "\n",
    "Other color spaces exist, and ordering of the colors may differ as well, but let’s start with the common RGB system.  If we say the image is a 24-bit image, each of the three Red, Green, and Blue colors are represented by an integer in the range 0 to 255 (8-bits), which indicates how “much” of the color there is. Given that the pixel value only needs to be in the range [0, 255] we normally use an 8-bit unsigned integer to represent each color intensity.  We then combine these values into a RGB tuple in the form (red, green, blue) . This tuple represents our color.  For example:\n",
    "\n",
    "- To construct a white color, we would fill each of the red, green, and blue buckets completely up, like this: (255, 255, 255) — since white is the presence of all color.\n",
    "- Then, to create a black color, we would empty each of the buckets out: (0, 0, 0) — since black is the absence of color.\n",
    "- To create a pure red color, we would fill up the red bucket (and only the red bucket) up completely: (255, 0, 0) .\n",
    "- etc\n",
    "\n",
    "Take a look at the following image to make this concept more clear:\n",
    "\n",
    "<figure>\n",
    "<img src=\"Figures/RGB_Tuple.JPG\" width=\"400\" height=\"195.89\" alt=\"RGB\" >\n",
    "</figure>\n",
    "\n",
    "For your reference, here are some common colors represented as RGB tuples:\n",
    "\n",
    "- Black:  (0, 0, 0)\n",
    "- White:  (255, 255, 255)\n",
    "- Red:  (255, 0, 0)\n",
    "- Green:  (0, 255, 0)\n",
    "- Blue:  (0, 0, 255)\n",
    "- Aqua:  (0, 255, 255)\n",
    "- Fuchsia:  (255, 0, 255)\n",
    "- Maroon:  (128, 0, 0)\n",
    "- Navy:  (0, 0, 128)\n",
    "- Olive:  (128, 128, 0)\n",
    "- Purple:  (128, 0, 128)\n",
    "- Teal:  (0, 128, 128)\n",
    "- Yellow:  (255, 255, 0)"
   ]
  },
  {
   "cell_type": "markdown",
   "id": "ccd28861",
   "metadata": {},
   "source": [
    "## Coding with OpenCV-Python\n",
    "It is time to build our first bit of code working with OpenCV.  Just like ROS, OpenCV is well supported by both Python and C++.  For simplicity, we will use Python throughout this course.  However, continue to recognize that if speed and efficiency become important, switching to a more robust language like C++ may become necessary.  To make use of OpenCV with Python, we need to import cv2.  The code below will simply load in the RGB figure above and print out the pixel values in each of the 4-quadrants."
   ]
  },
  {
   "cell_type": "markdown",
   "id": "89efcefa",
   "metadata": {},
   "source": [
    "First we need to import the OpenCV Python library, `cv2`:"
   ]
  },
  {
   "cell_type": "code",
   "execution_count": null,
   "id": "1ad16827",
   "metadata": {},
   "outputs": [],
   "source": [
    "import cv2"
   ]
  },
  {
   "cell_type": "markdown",
   "id": "79091fcc",
   "metadata": {},
   "source": [
    "Then we can load the image:"
   ]
  },
  {
   "cell_type": "code",
   "execution_count": null,
   "id": "3e8aacf4",
   "metadata": {},
   "outputs": [],
   "source": [
    "image = cv2.imread(\"RGB_Tuple.JPG\")"
   ]
  },
  {
   "cell_type": "markdown",
   "id": "6ba72f3f",
   "metadata": {},
   "source": [
    "The `shape` characteristic of the image returns a tuple of the number of rows, columns, and channels (if the image is color):"
   ]
  },
  {
   "cell_type": "code",
   "execution_count": null,
   "id": "cc18c436",
   "metadata": {},
   "outputs": [],
   "source": [
    "print(\"width: %d pixels\" %(image.shape[1]))\n",
    "print(\"height: %d pixels\" % (image.shape[0]))\n",
    "print(\"color channels: %d\" % (image.shape[2]))"
   ]
  },
  {
   "cell_type": "markdown",
   "id": "73e86cd0",
   "metadata": {},
   "source": [
    "You an also access specific pixels within the image (the `image` variable is really just an array of pixel values) by the row and column coordinates. Each pixel values is an array of Blue, Green, and Red values."
   ]
  },
  {
   "cell_type": "code",
   "execution_count": null,
   "id": "265672bf",
   "metadata": {},
   "outputs": [],
   "source": [
    "# print the BGR values of a pixel in the upper left of the image\n",
    "print(image[10, 10, :])\n",
    "\n",
    "# print the red value of a pixel in the bottom left of the image\n",
    "print(image[700, 100, 2])"
   ]
  },
  {
   "cell_type": "markdown",
   "id": "1ee50526",
   "metadata": {},
   "source": [
    "Fill in the code to do the following:"
   ]
  },
  {
   "cell_type": "code",
   "execution_count": null,
   "id": "1e490440",
   "metadata": {},
   "outputs": [],
   "source": [
    "# TODO: print BGR values of a pixel in the upper right of the image\n",
    "print(image[ , , :])\n",
    "\n",
    "# TODO: print BGR values of a pixel in the lower left of the image\n",
    "print(image[ , , :])\n",
    "\n",
    "# TODO: print blue value of a pixel in the lower right of the image\n",
    "print(image[ , , ])"
   ]
  },
  {
   "cell_type": "markdown",
   "id": "024de5ad",
   "metadata": {},
   "source": [
    "We can display the image as well.\n",
    "> ⚠️ **WARNING:** To exit the image just press any key. **DO NOT** press the 'X' in the corner. If you do press the 'X' (smh) you will have to Restart & Clear the Kernel: in the Jupyter Notebook at the top menu bar select \"Kernel\" and \"Restart & Clear Output\"."
   ]
  },
  {
   "cell_type": "code",
   "execution_count": null,
   "id": "88e52512",
   "metadata": {},
   "outputs": [],
   "source": [
    "cv2.imshow(\"Loaded image\", image)\n",
    "cv2.waitKey(0)\n",
    "cv2.destroyAllWindows() # close the image window"
   ]
  },
  {
   "cell_type": "markdown",
   "id": "b6013b52",
   "metadata": {},
   "source": [
    "When executing the code above, there were two minor surprises. What do you think they were? Now lets take a look at additional functionality embedded within OpenCV.\n",
    "\n",
    "Convert image to RGB and print the same pixel values. Remember that the image is already loaded within the `image` variable."
   ]
  },
  {
   "cell_type": "code",
   "execution_count": null,
   "id": "23fb758e",
   "metadata": {},
   "outputs": [],
   "source": [
    "# TODO: Convert image to RGB\n",
    "\n",
    "\n",
    "# TODO: print the RGB values of a pixel in the upper left of the image\n",
    "\n",
    "\n",
    "# TODO: print the red value of a pixel in the bottom left of the image\n",
    "\n",
    "\n",
    "# TODO: print RGB values of a pixel in the upper right of the image\n",
    "\n",
    "\n",
    "# TODO: print RGB values of a pixel in the lower left of the image\n",
    "\n",
    "\n",
    "# TODO: print blue value of a pixel in the lower right of the image\n"
   ]
  },
  {
   "cell_type": "markdown",
   "id": "6a49f6a7",
   "metadata": {},
   "source": [
    "Modify the code to convert to grayscale and print the same pixel values."
   ]
  },
  {
   "cell_type": "code",
   "execution_count": null,
   "id": "02d772a2",
   "metadata": {},
   "outputs": [],
   "source": [
    "# TODO: Convert image to Grayscale\n",
    "\n",
    "\n",
    "# TODO: print the Grayscale values of a pixel in the upper left of the image\n",
    "\n",
    "\n",
    "# TODO: print Grayscale values of a pixel in the upper right of the image\n",
    "\n",
    "\n",
    "# TODO: print Grayscale values of a pixel in the lower left of the image\n"
   ]
  },
  {
   "cell_type": "markdown",
   "id": "d2956ed9",
   "metadata": {},
   "source": [
    "## Summary\n",
    "These examples barely scratch the surface of what is possible with OpenCV. In the upcoming lessons we will learn a few more ways to manipulate images, but if you want to learn more you can either explore the [OpenCV-Python Source Documentation](https://docs.opencv.org/3.4/index.html) or the [OpenCV-Python Turtorial](https://docs.opencv.org/4.x/d6/d00/tutorial_py_root.html)."
   ]
  },
  {
   "cell_type": "markdown",
   "id": "38e19d9d",
   "metadata": {},
   "source": [
    "## Assignment\n",
    "Scan the article on the [Histogram of Oriented Gradients (HOG)](https://arxiv.org/pdf/1406.2419.pdf) feature discriptor and be prepared to discuss.  I don't need you to understand the math, but you should be able to understand the advantages of the technique."
   ]
  },
  {
   "cell_type": "markdown",
   "id": "999e9e6d",
   "metadata": {},
   "source": [
    "## Cleanup\n",
    "In the Jupyter Notebook at the top menu bar select \"Kernel\" and \"Restart & Clear Output\". Shutdown the notebook server by typing `ctrl+c` within the terminal you ran `jupyter-notebook` in. Select 'y'."
   ]
  }
 ],
 "metadata": {
  "kernelspec": {
   "display_name": "Python 3",
   "language": "python",
   "name": "python3"
  },
  "language_info": {
   "codemirror_mode": {
    "name": "ipython",
    "version": 3
   },
   "file_extension": ".py",
   "mimetype": "text/x-python",
   "name": "python",
   "nbconvert_exporter": "python",
   "pygments_lexer": "ipython3",
   "version": "3.8.8"
  },
  "toc": {
   "base_numbering": 1,
   "nav_menu": {
    "height": "339px",
    "width": "355px"
   },
   "number_sections": true,
   "sideBar": true,
   "skip_h1_title": true,
   "title_cell": "Table of Contents",
   "title_sidebar": "Contents",
   "toc_cell": false,
   "toc_position": {
    "height": "calc(100% - 180px)",
    "left": "10px",
    "top": "150px",
    "width": "312.867px"
   },
   "toc_section_display": true,
   "toc_window_display": false
  }
 },
 "nbformat": 4,
 "nbformat_minor": 5
}
