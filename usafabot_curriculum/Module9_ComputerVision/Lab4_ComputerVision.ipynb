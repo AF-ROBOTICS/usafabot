{
 "cells": [
  {
   "cell_type": "markdown",
   "id": "edfba5c0",
   "metadata": {},
   "source": [
    "# Module 9: Computer Vision\n",
    "---\n",
    "\n",
    "## Lab 4 part 1"
   ]
  },
  {
   "cell_type": "markdown",
   "id": "b454075b",
   "metadata": {},
   "source": [
    "### Purpose\n",
    "This lab will integrate a USB Camera with the Robot. You will then utilize images taken by the camera to build a stop sign detector and test it using a live video feed."
   ]
  },
  {
   "cell_type": "markdown",
   "id": "6a2eb3f2",
   "metadata": {},
   "source": [
    "### Calibrate USB Camera\n",
    "\n",
    "A camera must first be calibrated to utilize computer vision based tasks. Otherwise, there is no reference for how large objects are in regards to the camera frame. The [ROS Calibration Tool](http://wiki.ros.org/camera_calibration) creates a calibration file that is then used by other ROS packages to enable size and distance calculations. The **camera_calibration** package utilizes OpenCV camera calibration to allow easy calibration of monocular or stereo cameras using a checkerboard calibration target. The complete guide can be found on the [Camera Calibration Tutorial](http://wiki.ros.org/camera_calibration/Tutorials/MonocularCalibration).\n",
    "\n",
    "Open a terminal and connect to the camera using the **usb_cam** package:\n",
    "\n",
    "```bash\n",
    "roslaunch usb_cam usb_cam-test.launch\n",
    "```\n",
    "\n",
    "You should now see a window displaying the camera feed.\n",
    "\n",
    "Run the camera calibrate package with the correct parameters (even though the checkerboard says it is a 9x6 board with 3.0 cm squares it is actually a 8x5 board with 2.7 cm squares - the size the calibration tool uses is actually the interior vertex points, not the squares).\n",
    "\n",
    "Open a new terminal on the **Master** and run the folowing:\n",
    "\n",
    "```bash\n",
    "rosrun camera_calibration cameracalibrator.py --size 8x5 --square 0.027 image:=/usb_cam/image_raw camera:=/usb_cam\n",
    "```\n",
    "\n",
    "In order to get a good calibration you will need to move the checkerboard around in the camera frame such that:\n",
    "\n",
    "- checkerboard on the camera's left, right, top and bottom of field of view\n",
    "    - X bar - left/right in field of view\n",
    "    - Y bar - top/bottom in field of view\n",
    "    - Size bar - toward/away and tilt from the \n",
    "- checkerboard filling the whole field of view\n",
    "- checkerboard tilted to the left, right, top and bottom (Skew)\n",
    "\n",
    "As you move the checkerboard around you will see three bars on the calibration sidebar increase in length. \n",
    "\n",
    "When the CALIBRATE button lights, you have enough data for calibration and can click CALIBRATE to see the results. Calibration can take a couple minutes. The windows might be greyed out but just wait, it is working.\n",
    "\n",
    "When complete, select the save button and then commit.\n",
    "\n",
    "Browse to the location of the calibration data, extract, and move to the appropriate ROS folder on the robot:\n",
    "\n",
    "```bash\n",
    "cd /tmp\n",
    "tar xf calibrationdata.tar.gz\n",
    "scp ost.yaml pi@robotX:/home/pi/.ros/camera_info/head_camera.yaml\n",
    "```\n",
    "\n",
    "Kill the `usb_cam-test.launch` on the Robot. Edit the calibration data and replace \"narrow\\_stero\" with \"head\\_camera\":\n",
    "\n",
    "```bash\n",
    "nano /home/pi/.ros/camera_info/head_camera.yaml\n",
    "```\n",
    "\n",
    "Rerun the `usb_cam-test.launch` file on the robot. You should see the camera feed reopen and see no errors in the command line (you may need to unplug and plug your camera back in)."
   ]
  },
  {
   "cell_type": "markdown",
   "id": "6bb6edea",
   "metadata": {},
   "source": [
    "### Setup package\n",
    "1. Open a terminal, create an ssh connection to the Robot, and create a lab4 package:\n",
    "\n",
    "```bash\n",
    "cd ~/robot_ws/src/ece495_robot_spring2022-USERNAME/\n",
    "catkin_create_pkg lab4 rospy sensor_msgs cv_bridge\n",
    "```\n",
    "\n",
    "Make and source your workspace."
   ]
  },
  {
   "cell_type": "markdown",
   "id": "a9b99a59",
   "metadata": {},
   "source": [
    "#### Launch File\n",
    "Create a launch file, lab3.launch, that launches the `controller.py` file."
   ]
  },
  {
   "cell_type": "markdown",
   "id": "8bb9b76f",
   "metadata": {},
   "source": [
    "### Run your nodes\n",
    "1. Open secure shell into the **Robot** and run the **robotics.launch** file.\n",
    "1. On the master, open a terminal and run your **lab3.launch** file."
   ]
  },
  {
   "cell_type": "markdown",
   "id": "569bc559",
   "metadata": {},
   "source": [
    "### Report\n",
    "Complete a short 2-3 page report that utilizes the format and answers the questions within the report template. The report template and an example report can be found within the Team under `Resources/Lab Template`.\n",
    "\n",
    "> 📝️ **NOTE:** We will be primarily grading sections 3.3 System level design and 3.4 Testing for this lab, but do include the entire lab as you will need other components for the final project report."
   ]
  },
  {
   "cell_type": "markdown",
   "id": "d2956ed9",
   "metadata": {},
   "source": [
    "### Turn-in Requirements\n",
    "**[25 points]** Demonstration of keyboard control of USAFABot (preferably in person, but can be recorded and posted to Teams under the Lab1 channel).\n",
    "\n",
    "**[50 points]** Report via Gradescope.\n",
    "\n",
    "**[25 points]** Code: push your code to your repository. Also, include a screen shot of the **controller.py** file at the end of your report."
   ]
  }
 ],
 "metadata": {
  "kernelspec": {
   "display_name": "Python 3",
   "language": "python",
   "name": "python3"
  },
  "language_info": {
   "codemirror_mode": {
    "name": "ipython",
    "version": 3
   },
   "file_extension": ".py",
   "mimetype": "text/x-python",
   "name": "python",
   "nbconvert_exporter": "python",
   "pygments_lexer": "ipython3",
   "version": "3.8.8"
  },
  "toc": {
   "base_numbering": 1,
   "nav_menu": {
    "height": "339px",
    "width": "355px"
   },
   "number_sections": true,
   "sideBar": true,
   "skip_h1_title": true,
   "title_cell": "Table of Contents",
   "title_sidebar": "Contents",
   "toc_cell": false,
   "toc_position": {
    "height": "calc(100% - 180px)",
    "left": "10px",
    "top": "150px",
    "width": "165px"
   },
   "toc_section_display": true,
   "toc_window_display": false
  }
 },
 "nbformat": 4,
 "nbformat_minor": 5
}
