{
 "cells": [
  {
   "cell_type": "markdown",
   "id": "a657a0b7",
   "metadata": {},
   "source": [
    "# Robot Setup\n",
    "## Hardware\n",
    "- Raspberry Pi 4 Model B (preferably with 8 GB of RAM))\n",
    "- 128 GB High Speed MicroSD card\n",
    "- MicroSD card reader\n",
    "- Mouse and Keyboard\n",
    "- TI RSLK MAX Kit\n",
    "- Lidar\n",
    "- Orientation Sensor\n",
    "- USB Camera"
   ]
  },
  {
   "cell_type": "markdown",
   "id": "662294f7",
   "metadata": {},
   "source": [
    "## Software\n",
    "### Download Ubuntu and flash MicroSD card\n",
    "\n",
    "### Ubuntu Setup\n",
    "\n",
    "### ROS Setup\n",
    "#### Noetic\n",
    "\n",
    "#### USAFABOT\n",
    "\n",
    "#### Dependencies"
   ]
  }
 ],
 "metadata": {
  "kernelspec": {
   "display_name": "Python 3",
   "language": "python",
   "name": "python3"
  },
  "language_info": {
   "codemirror_mode": {
    "name": "ipython",
    "version": 3
   },
   "file_extension": ".py",
   "mimetype": "text/x-python",
   "name": "python",
   "nbconvert_exporter": "python",
   "pygments_lexer": "ipython3",
   "version": "3.8.8"
  }
 },
 "nbformat": 4,
 "nbformat_minor": 5
}
