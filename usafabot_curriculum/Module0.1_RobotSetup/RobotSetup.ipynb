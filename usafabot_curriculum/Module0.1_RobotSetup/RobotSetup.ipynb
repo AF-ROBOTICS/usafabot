{
 "cells": [
  {
   "cell_type": "markdown",
   "id": "a657a0b7",
   "metadata": {},
   "source": [
    "# Robot Setup\n",
    "## Hardware\n",
    "- Raspberry Pi 4 Model B (preferably with 8 GB of RAM))\n",
    "- 128 GB High Speed MicroSD card\n",
    "- MicroSD card reader\n",
    "- Monitor, mouse, and keyboard\n",
    "- TI RSLK MAX Kit\n",
    "- Lidar\n",
    "- Orientation Sensor\n",
    "- USB Camera"
   ]
  },
  {
   "cell_type": "markdown",
   "id": "662294f7",
   "metadata": {},
   "source": [
    "# Software\n",
    "### Download Ubuntu and flash MicroSD card\n",
    "There are multiple ways to download and install Ubuntu 20 to a MicroSD card, but the Raspberry Pi Imager is one of the easiest. Instructions for installing the imager on your operating system can be found on the [Raspberry Pi OS software page](https://www.raspberrypi.com/software/). \n",
    "\n",
    "Once installed, start the imager and select the \"CHOOSE OS\" button.\n",
    "<img src=\"Figures/installer1.png\" width=\"600\" height=\"395.89\">\n",
    "\n",
    "Scroll down the menu and select \"Other general purpose OS\".\n",
    "<img src=\"Figures/installer2.png\" width=\"600\" height=\"395.89\">\n",
    "\n",
    "Next, select \"Ubuntu\".\n",
    "<img src=\"Figures/installer3.png\" width=\"600\" height=\"395.89\">\n",
    "\n",
    "Lastly, scroll and select the latest 64-bit version of \"Ubuntu Server 20.04 LTS\".\n",
    "<img src=\"Figures/installer4.png\" width=\"600\" height=\"395.89\">\n",
    "\n",
    "Now that you have the correct image selected, you need to choose the correct storage device that corresponds to the MicroSD card. Select \"CHOOSE STORAGE\".\n",
    "> ⚠️ **WARNING:** This process will overwrite the drive, so ensure you select the correct device! You can select \"CHOOSE STORAGE\" before inserting the MicroSD card, then insert it, and the card will be the new drive that pops up.\n",
    "\n",
    "Once you are sure the correct drive is selected, click \"WRITE\".\n",
    "\n",
    "Once complete you should have an Ubuntu SD card! Ensure your Raspberry Pi is powered off, connected to a monitor, keyboard, and mouse, and insert the SD card.\n",
    "\n",
    "### Ubuntu Setup\n",
    "\n",
    "### ROS Setup\n",
    "#### Noetic\n",
    "\n",
    "#### USAFABOT\n",
    "\n",
    "#### Dependencies"
   ]
  }
 ],
 "metadata": {
  "kernelspec": {
   "display_name": "Python 3 (ipykernel)",
   "language": "python",
   "name": "python3"
  },
  "language_info": {
   "codemirror_mode": {
    "name": "ipython",
    "version": 3
   },
   "file_extension": ".py",
   "mimetype": "text/x-python",
   "name": "python",
   "nbconvert_exporter": "python",
   "pygments_lexer": "ipython3",
   "version": "3.8.10"
  },
  "toc": {
   "base_numbering": 1,
   "nav_menu": {},
   "number_sections": true,
   "sideBar": true,
   "skip_h1_title": true,
   "title_cell": "Table of Contents",
   "title_sidebar": "Contents",
   "toc_cell": false,
   "toc_position": {},
   "toc_section_display": true,
   "toc_window_display": true
  }
 },
 "nbformat": 4,
 "nbformat_minor": 5
}
