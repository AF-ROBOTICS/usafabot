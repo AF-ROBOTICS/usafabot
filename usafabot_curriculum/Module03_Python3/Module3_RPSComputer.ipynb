{
 "cells": [
  {
   "cell_type": "markdown",
   "id": "aca6e80e",
   "metadata": {},
   "source": [
    "# Module 3: Python3 for Robotics\n",
    "---\n",
    "### A note on this document\n",
    "This document is known as a Jupyter Notebook; it is used in academia and industry to allow text and executable code to coexist in a very easy to read format. Blocks can contain text or code, and for blocks containing code, press `Shift + Enter` to run the code. Earlier blocks of code need to be run for the later blocks of code to work."
   ]
  },
  {
   "cell_type": "markdown",
   "id": "b872c666",
   "metadata": {},
   "source": [
    "## Computer Player\n",
    "We will now implement a computer player node that will send a random choice to the player node."
   ]
  },
  {
   "cell_type": "markdown",
   "id": "a28c82b8",
   "metadata": {},
   "source": [
    "First import your required modules:"
   ]
  },
  {
   "cell_type": "code",
   "execution_count": null,
   "id": "32ad78ee",
   "metadata": {},
   "outputs": [],
   "source": [
    "import rospy, random\n",
    "from std_msgs.msg import String"
   ]
  },
  {
   "cell_type": "markdown",
   "id": "8554c054",
   "metadata": {},
   "source": [
    "Here, we are importing two modules: *rospy*, which allows us to run ROS code in Python, and the *String* message from the *std_msgs* ROS package."
   ]
  },
  {
   "cell_type": "code",
   "execution_count": null,
   "id": "04c9b310",
   "metadata": {},
   "outputs": [],
   "source": [
    "class Computer:\n",
    "    # class constant to store computer choices\n",
    "    CHOICES = ['Rock', 'Paper', 'Scissors']\n",
    "    \n",
    "    # initialize class\n",
    "    def __init__(self,):\n",
    "        # instance variables\n",
    "        self.computers_choice = String()\n",
    "        \n",
    "        # subscriber to receive the computer's choice over the computer topic\n",
    "        rospy.Subscriber('user_choice', String, self.callback_computers_choice)\n",
    "        \n",
    "        # publisher to send player's choice over the player topic\n",
    "        self.pub = rospy.Publisher('computer_choice', String, queue_size=1)\n",
    "    \n",
    "    def callback_computers_choice(self, data):\n",
    "        # use random module imported earlier to select a random index from the list\n",
    "        rand_index = random.randint(0,len(self.CHOICES)-1)\n",
    "        # use the index to select an item from the list\n",
    "        self.computers_choice = self.CHOICES[rand_index]\n",
    "        self.pub.publish(self.computers_choice)"
   ]
  },
  {
   "cell_type": "code",
   "execution_count": null,
   "id": "131a52df",
   "metadata": {},
   "outputs": [],
   "source": [
    "rospy.init_node('computer')\n",
    "Computer()\n",
    "rospy.spin()"
   ]
  },
  {
   "cell_type": "markdown",
   "id": "2b4a1412",
   "metadata": {},
   "source": [
    "Now return to the ICE3_RPSUser Notebook and fill in the requested inputs."
   ]
  }
 ],
 "metadata": {
  "kernelspec": {
   "display_name": "Python 3",
   "language": "python",
   "name": "python3"
  },
  "language_info": {
   "codemirror_mode": {
    "name": "ipython",
    "version": 3
   },
   "file_extension": ".py",
   "mimetype": "text/x-python",
   "name": "python",
   "nbconvert_exporter": "python",
   "pygments_lexer": "ipython3",
   "version": "3.8.8"
  }
 },
 "nbformat": 4,
 "nbformat_minor": 5
}
