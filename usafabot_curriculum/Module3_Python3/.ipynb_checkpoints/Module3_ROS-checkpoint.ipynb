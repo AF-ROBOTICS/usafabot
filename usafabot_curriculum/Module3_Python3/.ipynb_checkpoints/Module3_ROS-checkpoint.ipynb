{
 "cells": [
  {
   "cell_type": "markdown",
   "id": "5c3a9c29",
   "metadata": {},
   "source": [
    "# Module 3: Python3 for Robotics\n",
    "## ROS\n",
    "Below you will see some ROS commands. The \"!\" character in the front allows us to run bash commands from Jupter and would **NOT** be used in the command line.\n",
    "\n",
    "With the user and computer nodes running execute the below commands."
   ]
  },
  {
   "cell_type": "markdown",
   "id": "05ec3a17",
   "metadata": {},
   "source": [
    "List the active topics:"
   ]
  },
  {
   "cell_type": "code",
   "execution_count": null,
   "id": "4c44811f",
   "metadata": {},
   "outputs": [],
   "source": [
    "!rostopic list"
   ]
  },
  {
   "cell_type": "markdown",
   "id": "c3e72629",
   "metadata": {},
   "source": [
    "Display running nodes and communication between them:"
   ]
  },
  {
   "cell_type": "code",
   "execution_count": null,
   "id": "572a6a22",
   "metadata": {},
   "outputs": [],
   "source": [
    "!rqt_graph"
   ]
  },
  {
   "cell_type": "markdown",
   "id": "265a01bd",
   "metadata": {},
   "source": [
    "Exit the rqt_graph and then list all running nodes:"
   ]
  },
  {
   "cell_type": "code",
   "execution_count": null,
   "id": "6aaf5293",
   "metadata": {},
   "outputs": [],
   "source": [
    "!rosnode list"
   ]
  },
  {
   "cell_type": "markdown",
   "id": "815a35c5",
   "metadata": {},
   "source": [
    "Show information about a the 'computer' topic such as what type of messages are sent over the topic and publishing and subscribing nodes."
   ]
  },
  {
   "cell_type": "code",
   "execution_count": null,
   "id": "27d20068",
   "metadata": {},
   "outputs": [],
   "source": [
    "!rostopic info /computer"
   ]
  },
  {
   "cell_type": "markdown",
   "id": "1dad4880",
   "metadata": {},
   "source": [
    "Display information about the message that is sent over a topic."
   ]
  },
  {
   "cell_type": "code",
   "execution_count": null,
   "id": "7f98dee7",
   "metadata": {},
   "outputs": [],
   "source": [
    "!rostopic type /computer | rosmsg show"
   ]
  },
  {
   "cell_type": "markdown",
   "id": "7bfdcd55",
   "metadata": {},
   "source": [
    "Display messages sent over a topic:"
   ]
  },
  {
   "cell_type": "code",
   "execution_count": null,
   "id": "4b865868",
   "metadata": {},
   "outputs": [],
   "source": [
    "!rostopic echo /user"
   ]
  },
  {
   "cell_type": "markdown",
   "id": "28d4d12f",
   "metadata": {},
   "source": [
    "In the Module3_Python3 notebook, reset the Jupter kernel and clear output: At the top menu bar select \"Kernel\" and \"Restart & Clear Output\" (you do not need to restart the computer player). Make sure to rerun the code blocks to import modules, build the class, and create the main. When you select 'Rock', 'Paper', or 'Scissors' you should see the message echoed above."
   ]
  },
  {
   "cell_type": "markdown",
   "id": "e0a1214f",
   "metadata": {},
   "source": [
    "## Cleanup\n",
    "In each of the notebooks reset the Jupter kernel and clear output. Close each notebook. Shutdown the notebook server by typing `ctrl+c` within the terminal you ran `Jupter-notebook` in. Select 'y'."
   ]
  },
  {
   "cell_type": "markdown",
   "id": "94e9b070",
   "metadata": {},
   "source": [
    "You should now have a better understanding of how to utilize ROS and Python. To learn more about the Python style guide and standards, visit [PEP 8 -- Style Guid for Python Code](https://www.python.org/dev/peps/pep-0008/#class-names)."
   ]
  }
 ],
 "metadata": {
  "kernelspec": {
   "display_name": "Python 3",
   "language": "python",
   "name": "python3"
  },
  "language_info": {
   "codemirror_mode": {
    "name": "ipython",
    "version": 3
   },
   "file_extension": ".py",
   "mimetype": "text/x-python",
   "name": "python",
   "nbconvert_exporter": "python",
   "pygments_lexer": "ipython3",
   "version": "3.8.8"
  }
 },
 "nbformat": 4,
 "nbformat_minor": 5
}
