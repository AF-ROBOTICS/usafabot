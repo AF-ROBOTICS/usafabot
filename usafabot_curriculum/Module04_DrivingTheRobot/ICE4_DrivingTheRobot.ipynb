{
 "cells": [
  {
   "cell_type": "markdown",
   "id": "1361537e",
   "metadata": {},
   "source": [
    "# Module 4: Driving the Robot\n",
    "## In-Class Exercise 4\n",
    "---\n",
    "### A note on this document\n",
    "Now that you have a better understanding of the Linux operating system and Python programming language the Jupyter Notebooks will be used primarily to guide you through the In-Class Exercises and Laboratories. You will execute the majority of your commands and code within the Linux terminal."
   ]
  },
  {
   "cell_type": "markdown",
   "id": "4d8a7b70",
   "metadata": {},
   "source": [
    "### Purpose\n",
    "This In-Class Exercise will introduce you to utilizing pre-built ROS packages to accomplish a task. It will also provide you experience interacting with someone else's source code (.py files) to learn how that component works. You will use ROS to run two nodes, **usafabot_serial** and **teleop_twist_keyboard**, to drive the USAFABOT with a keyboard. You will continue to practice using ROS tools to observe how these components communicate."
   ]
  },
  {
   "cell_type": "markdown",
   "id": "8427710b",
   "metadata": {},
   "source": [
    "### Code used to drive the robot\n",
    "1. On the Master, open a terminal and run **roscore**.\n",
    "\n",
    "1. Open a new terminal on the Master and create a secure shell into the Robot using the SSH command you learned during Module 2. This will allow you to run commands as if you were on the Robot.\n",
    "\n",
    "1. Using the secure shell, open the source code for the **usafabot_serial** node using the nano command line editor tool through the rosed command:\n",
    "\n",
    "    `pi@robot:~$ rosed usafabot usafabot_serial.py`\n",
    "\n",
    "    > ⌨️ **Syntax:**  `rosed <package> <filename>`\n",
    "\n",
    "    > 📝️ **Note:** You may remember when we set up our *.bashrc* file we set the system variable **EDITOR** to `nano -w`. This enables the `rosed` command to utilize the nano editor.\n",
    "    There is a lot going on in this file. We will go over the important aspects in class, but you should understand that it creates a node called **usafabot_serial** which subscribes to the **/cmd_vel** topic and receives *Twist* messages (we only use the linear x and angular z characteristics). These values are then sent to the MSP_432 microcontroller over a serial connection (USB) to drive the robot accordingly. Simultaneously, the node receives wheel speeds from the robot and publishes the values over the **/wheel_speeds** topic.\n",
    "<br>\n",
    "\n",
    "1. Close the editor by hitting `ctrl+x`.\n",
    "\n",
    "1. It is always a good idea to check that the robot is communicating with the master. To do this, we can list the active topics the Robot sees. Run the following within your secure shell:\n",
    "\n",
    "    `pi@robot:~$ rostopic list`\n",
    "\n",
    "    If all is well, then there should be two topics provided by **roscore**: **/rosout** and **/rosout_agg**. We will typically ignore these topics.\n",
    "\n",
    "1. Run the **usafabot_serial** node using the rosrun command:\n",
    "\n",
    "    `pi@robot:~$ rosrun usafabot usafabot_serial.py`\n",
    "    \n",
    "    Your robot is now ready to drive and should be listening for *Twist* messages to be sent over the **/cmd_vel** topic."
   ]
  },
  {
   "cell_type": "markdown",
   "id": "9bb35421",
   "metadata": {},
   "source": [
    "### Driving the robot\n",
    "1. Open a new terminal on the Master and observe the nodes currently running:\n",
    "\n",
    "    `dfec@master:~$ rosrun rqt_graph rqt_graph`\n",
    "    \n",
    "    You should only see one node running right now, **usafabot_serial**, with no connections.\n",
    "1. Open a new terminal tab and list the active topics. There should be two active topics besides the ones created by **roscore**: **/cmd_vel** and **/wheel_speeds**\n",
    "1. You can find information on pre-built packages by googling the package name along with the ROS distribution. Open up your favorite browser and google \"teleop twist keyboard noetic\". The first result should be from the ROS wiki page.\n",
    "1. Ensure the ROS package **teleop_twist_keyboard** is installed on your Master:\n",
    "\n",
    "    `dfec@master:~$ rospack find teleop_twist_keyboard`\n",
    "    \n",
    "    If installed, the command should return the absolute path to the package, similar to `/opt/ros/noetic/share/teleop_twist_keyboard`\n",
    "    \n",
    "    If the command instead returns an error, then you need to install the package using apt:\n",
    "    \n",
    "    `dfec@master:~$ sudo apt install ros-noetic-teleop-twist-keyboard`\n",
    "    \n",
    "    > 💡️ **Tip:** All packages built for Noetic can be downloaded in the above manner (ros-noetic-desired-pkg with underscores in the package name replaced by dashes). Some packages were only built for previous ROS distribution and will have to be built from source (we will demonstrate this at a future time).\n",
    "    \n",
    "1. Run the **teleop_twist_keyboard** node on the Master:\n",
    "\n",
    "    > 💡️ **Tip:** Don't forget your tab completion! You can start typing a package name or node and then hit tab for it to complete the command for you!\n",
    "    \n",
    "    `dfec@master:~$ rosrun teleop_twist_keyboard teleop_twist_keyboard.py`\n",
    "    \n",
    "1. Before we get too excited and drive the robot off a cliff, observe how the nodes are communicating using the **rqt_graph** tool in a new terminal (if you still have the previous rqt_graph running, you can hit the refresh button in the top left corner).\n",
    "\n",
    "1. Select the terminal that has the **teleop_twist_keyboard** node running and observe the instructions for sending *Twist* messages. These are the same as when driving the simulated robot.\n",
    "\n",
    "1. The USAFABOT operates best with a linear velocity between 0.5 m/s and 0.2 m/s. It turns best with an angular velocity between 0.5 rad/s and 1.5 rad/s. Drive the robot using these parameters."
   ]
  },
  {
   "cell_type": "markdown",
   "id": "fa36e3d4",
   "metadata": {},
   "source": [
    "### ROS\n",
    "In labs throughout this course we will request information about the topics, nodes, and messages within your system. Accomplish the following in a new terminal on your Master (you can ignore all nodes/topics that result from **roscore**)."
   ]
  },
  {
   "cell_type": "markdown",
   "id": "c86d130d",
   "metadata": {},
   "source": [
    "1. List all running nodes.\n",
    "\n",
    "1. Determine what topics the nodes subscribe and publish to (repeat for each node).\n",
    "\n",
    "1. Display running nodes and communication between them.\n",
    "\n",
    "1. List the active topics.\n",
    "\n",
    "1. Determine the type of messages sent over the topics (repeat for each topic).\n",
    "\n",
    "1. Determine the fields of the messages.\n",
    "\n",
    "1. Observe the information sent over a topic (repeat for each topic)."
   ]
  },
  {
   "cell_type": "markdown",
   "id": "24acd8f4",
   "metadata": {},
   "source": [
    "### Checkpoint\n",
    "Once complete, get checked off by an instructor showing the output of each of the above."
   ]
  },
  {
   "cell_type": "markdown",
   "id": "288ba073",
   "metadata": {},
   "source": [
    "## Summary\n",
    "In this exercise you examined and used pre-built packages and source code to drive the USAFABOT and understand how the system worked. You then were able to analyze the topics, nodes, and messages within the ROS system to better understand the flow of information and control. The **pro-tips** presented throughout this exercise will make you a better user of Linux and ROS."
   ]
  },
  {
   "cell_type": "markdown",
   "id": "80a605e4",
   "metadata": {},
   "source": [
    "## Cleanup\n",
    "In each terminal window, close the node by typing `ctrl+c`. Exit any SSH connections. In each of the notebooks reset the Jupter kernel and clear output. Now it is safe to exit out of this window. Shutdown the notebook server by typing `ctrl+c` within the terminal you ran `jupyter-notebook` in. Select 'y'."
   ]
  }
 ],
 "metadata": {
  "kernelspec": {
   "display_name": "Python 3",
   "language": "python",
   "name": "python3"
  },
  "language_info": {
   "codemirror_mode": {
    "name": "ipython",
    "version": 3
   },
   "file_extension": ".py",
   "mimetype": "text/x-python",
   "name": "python",
   "nbconvert_exporter": "python",
   "pygments_lexer": "ipython3",
   "version": "3.8.8"
  },
  "toc": {
   "base_numbering": 1,
   "nav_menu": {
    "height": "339px",
    "width": "355px"
   },
   "number_sections": true,
   "sideBar": true,
   "skip_h1_title": true,
   "title_cell": "Table of Contents",
   "title_sidebar": "Contents",
   "toc_cell": false,
   "toc_position": {},
   "toc_section_display": true,
   "toc_window_display": true
  }
 },
 "nbformat": 4,
 "nbformat_minor": 5
}
