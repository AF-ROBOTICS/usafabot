{
 "cells": [
  {
   "cell_type": "markdown",
   "id": "aab9982c",
   "metadata": {},
   "source": [
    "# Module 3: Python3 for Robotics\n",
    "## ROS\n",
    "Below you will see some ROS commands. The \"!\" character in the front allows us to run bash commands from Jupyter and would **NOT** be used in the command line.\n",
    "\n",
    "With the user and computer nodes running execute the below commands."
   ]
  },
  {
   "cell_type": "markdown",
   "id": "fc738211",
   "metadata": {},
   "source": [
    "List the active topics:"
   ]
  },
  {
   "cell_type": "code",
   "execution_count": null,
   "id": "8fb1ddf7",
   "metadata": {},
   "outputs": [],
   "source": [
    "!rostopic list"
   ]
  },
  {
   "cell_type": "markdown",
   "id": "eb2137be",
   "metadata": {},
   "source": [
    "Display running nodes and communication between them:"
   ]
  },
  {
   "cell_type": "code",
   "execution_count": null,
   "id": "191b07c0",
   "metadata": {},
   "outputs": [],
   "source": [
    "!rqt_graph"
   ]
  },
  {
   "cell_type": "markdown",
   "id": "7af0f75a",
   "metadata": {},
   "source": [
    "Exit the rqt_graph and then list all running nodes:"
   ]
  },
  {
   "cell_type": "code",
   "execution_count": null,
   "id": "251e1658",
   "metadata": {},
   "outputs": [],
   "source": [
    "!rosnode list"
   ]
  },
  {
   "cell_type": "markdown",
   "id": "da94478d",
   "metadata": {},
   "source": [
    "Show information about a the **/computer_choice** topic such as what type of messages are sent over the topic and publishing and subscribing nodes:"
   ]
  },
  {
   "cell_type": "code",
   "execution_count": null,
   "id": "551525ea",
   "metadata": {},
   "outputs": [],
   "source": [
    "!rostopic info /computer_choice"
   ]
  },
  {
   "cell_type": "markdown",
   "id": "961bd9cb",
   "metadata": {},
   "source": [
    "Display information about the message that is sent over the **/computer** topic:"
   ]
  },
  {
   "cell_type": "code",
   "execution_count": null,
   "id": "bdd27e04",
   "metadata": {},
   "outputs": [],
   "source": [
    "!rostopic type /computer_choice | rosmsg show"
   ]
  },
  {
   "cell_type": "markdown",
   "id": "7f862c4f",
   "metadata": {},
   "source": [
    "Display messages sent over the **/user_choice** topic:"
   ]
  },
  {
   "cell_type": "code",
   "execution_count": null,
   "id": "6056d66a",
   "metadata": {},
   "outputs": [],
   "source": [
    "!rostopic echo /user_choice"
   ]
  },
  {
   "cell_type": "markdown",
   "id": "411e2985",
   "metadata": {},
   "source": [
    "In the Module3_Python3 notebook, reset the Jupter kernel and clear output: At the top menu bar select \"Kernel\" and \"Restart & Clear Output\" (you do not need to restart the computer player). Make sure to rerun the code blocks to import modules, build the class, and create the main. When you select 'Rock', 'Paper', or 'Scissors' you should see the message echoed above."
   ]
  },
  {
   "cell_type": "markdown",
   "id": "6c804fb7",
   "metadata": {},
   "source": [
    "## Cleanup\n",
    "In each of the notebooks reset the Jupter kernel and clear output. Close each notebook. Shutdown the notebook server by typing `ctrl+c` within the terminal you ran `Jupter-notebook` in. Select 'y'. Kill all processes in your terminals (ctrl+c) and ensure roscore is terminated before moving on to the ICE."
   ]
  },
  {
   "cell_type": "markdown",
   "id": "0160d8ba",
   "metadata": {},
   "source": [
    "You should now have a better understanding of how to utilize ROS and Python. To learn more about the Python style guide and standards, visit [PEP 8 -- Style Guid for Python Code](https://www.python.org/dev/peps/pep-0008/#class-names)."
   ]
  }
 ],
 "metadata": {
  "kernelspec": {
   "display_name": "Python 3 (ipykernel)",
   "language": "python",
   "name": "python3"
  },
  "language_info": {
   "codemirror_mode": {
    "name": "ipython",
    "version": 3
   },
   "file_extension": ".py",
   "mimetype": "text/x-python",
   "name": "python",
   "nbconvert_exporter": "python",
   "pygments_lexer": "ipython3",
   "version": "3.8.10"
  },
  "toc": {
   "base_numbering": 1,
   "nav_menu": {},
   "number_sections": true,
   "sideBar": true,
   "skip_h1_title": true,
   "title_cell": "Table of Contents",
   "title_sidebar": "Contents",
   "toc_cell": false,
   "toc_position": {},
   "toc_section_display": true,
   "toc_window_display": true
  }
 },
 "nbformat": 4,
 "nbformat_minor": 5
}
