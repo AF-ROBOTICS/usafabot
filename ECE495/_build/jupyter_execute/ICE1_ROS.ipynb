{
 "cells": [
  {
   "cell_type": "markdown",
   "metadata": {},
   "source": [
    "# Module 1: Robotics Operating System (ROS)\n",
    "## In-Class Exercise 1 - ROS\n",
    "Below you will see the ROS commands you will use throughout this course to investigate your ROS system and write your lab reports. The \"!\" character in the front allows us to run bash commands from Jupyter and would **NOT** be used in the command line.\n",
    "\n",
    "With the talker and listener nodes running execute the below commands."
   ]
  },
  {
   "cell_type": "markdown",
   "metadata": {},
   "source": [
    "List all running nodes:"
   ]
  },
  {
   "cell_type": "code",
   "execution_count": 1,
   "metadata": {},
   "outputs": [
    {
     "name": "stdout",
     "output_type": "stream",
     "text": [
      "ERROR: Unable to communicate with master!\r\n"
     ]
    }
   ],
   "source": [
    "!rosnode list"
   ]
  },
  {
   "cell_type": "markdown",
   "metadata": {},
   "source": [
    "You should see the listener and talker nodes. The */rosout* node is created when running `roscore` and facilitates communication in the network. You can ignore this node in your lab reports.\n",
    "\n",
    "Get more information about the */listener* node:"
   ]
  },
  {
   "cell_type": "code",
   "execution_count": 2,
   "metadata": {},
   "outputs": [
    {
     "name": "stdout",
     "output_type": "stream",
     "text": [
      "--------------------------------------------------------------------------------\r\n"
     ]
    },
    {
     "name": "stdout",
     "output_type": "stream",
     "text": [
      "ERROR: Unable to communicate with master!\r\n"
     ]
    }
   ],
   "source": [
    "!rosnode info /listener"
   ]
  },
  {
   "cell_type": "markdown",
   "metadata": {},
   "source": [
    "You can see what topics the node is publishing and subscribing to. It publishes to the ROS log file (for debugging) and subscribes to the **/chat** topic.\n",
    "\n",
    "List the active topics:"
   ]
  },
  {
   "cell_type": "code",
   "execution_count": 3,
   "metadata": {},
   "outputs": [
    {
     "name": "stdout",
     "output_type": "stream",
     "text": [
      "ERROR: Unable to communicate with master!\r\n"
     ]
    }
   ],
   "source": [
    "!rostopic list"
   ]
  },
  {
   "cell_type": "markdown",
   "metadata": {},
   "source": [
    "The first topic is the one we created. The last two are created by `roscore` and can be ignored.\n",
    "\n",
    "Show information about the **/chat** topic such as what type of messages are sent over the topic and publishing and subscribing nodes.\n",
    "\n"
   ]
  },
  {
   "cell_type": "code",
   "execution_count": 4,
   "metadata": {},
   "outputs": [
    {
     "name": "stdout",
     "output_type": "stream",
     "text": [
      "ERROR: Unable to communicate with master!\r\n"
     ]
    }
   ],
   "source": [
    "!rostopic info /chat"
   ]
  },
  {
   "cell_type": "markdown",
   "metadata": {},
   "source": [
    "As expected, the *talker* node is publishing to the **/chat** topic while the *listener* node subscribes.\n",
    "\n",
    "Display running nodes and communication between them:"
   ]
  },
  {
   "cell_type": "code",
   "execution_count": 5,
   "metadata": {},
   "outputs": [
    {
     "name": "stdout",
     "output_type": "stream",
     "text": [
      "Traceback (most recent call last):\r\n",
      "  File \"/opt/ros/noetic/bin/rqt_graph\", line 8, in <module>\r\n",
      "    sys.exit(main.main(sys.argv, standalone='rqt_graph.ros_graph.RosGraph'))\r\n",
      "  File \"/opt/ros/noetic/lib/python3/dist-packages/rqt_gui/main.py\", line 61, in main\r\n",
      "    return super(\r\n",
      "  File \"/opt/ros/noetic/lib/python3/dist-packages/qt_gui/main.py\", line 407, in main\r\n",
      "    from python_qt_binding import QT_BINDING\r\n",
      "  File \"/opt/ros/noetic/lib/python3/dist-packages/python_qt_binding/__init__.py\", line 55, in <module>\r\n",
      "    from .binding_helper import loadUi, QT_BINDING, QT_BINDING_MODULES, QT_BINDING_VERSION  # @UnusedImport\r\n",
      "  File \"/opt/ros/noetic/lib/python3/dist-packages/python_qt_binding/binding_helper.py\", line 274, in <module>\r\n",
      "    _select_qt_binding(\r\n",
      "  File \"/opt/ros/noetic/lib/python3/dist-packages/python_qt_binding/binding_helper.py\", line 108, in _select_qt_binding\r\n",
      "    QT_BINDING_VERSION = binding_loader(required_modules, optional_modules)\r\n",
      "  File \"/opt/ros/noetic/lib/python3/dist-packages/python_qt_binding/binding_helper.py\", line 155, in _load_pyqt\r\n",
      "    _named_optional_import('PyQt5.%s' % module_name)\r\n",
      "  File \"/opt/ros/noetic/lib/python3/dist-packages/python_qt_binding/binding_helper.py\", line 142, in _named_optional_import\r\n",
      "    _named_import(name)\r\n",
      "  File \"/opt/ros/noetic/lib/python3/dist-packages/python_qt_binding/binding_helper.py\", line 133, in _named_import\r\n",
      "    module = builtins.__import__(name)\r\n",
      "ValueError: PyCapsule_GetPointer called with incorrect name\r\n"
     ]
    }
   ],
   "source": [
    "!rqt_graph"
   ]
  },
  {
   "cell_type": "markdown",
   "metadata": {},
   "source": [
    "Close the rqt_graph."
   ]
  },
  {
   "cell_type": "markdown",
   "metadata": {},
   "source": [
    "Display information about the message that is sent over the **/chat** topic."
   ]
  },
  {
   "cell_type": "code",
   "execution_count": 6,
   "metadata": {},
   "outputs": [
    {
     "name": "stdout",
     "output_type": "stream",
     "text": [
      "ERROR: Unable to communicate with master!\r\n"
     ]
    },
    {
     "name": "stdout",
     "output_type": "stream",
     "text": [
      "^C\r\n"
     ]
    }
   ],
   "source": [
    "!rostopic type /chat | rosmsg show"
   ]
  },
  {
   "cell_type": "markdown",
   "metadata": {},
   "source": [
    "The output of the command is the same as the information we saw from the ROS documentation. Again, to access the message we have to use the `data` attribute."
   ]
  },
  {
   "cell_type": "markdown",
   "metadata": {},
   "source": [
    "Display messages sent over the **/chat** topic:"
   ]
  },
  {
   "cell_type": "code",
   "execution_count": null,
   "metadata": {},
   "outputs": [],
   "source": [
    "!rostopic echo /chat"
   ]
  },
  {
   "cell_type": "markdown",
   "metadata": {},
   "source": [
    "In the ICE1_Talker notebook send a message to the listener. You should see that message show up both here and at the listener. This echo tool is useful to ensure your nodes are sending the messages as expected.\n",
    "\n",
    "### Checkpoint\n",
    "Once complete, get checked off by an instructor showing the output of each of the above."
   ]
  },
  {
   "cell_type": "markdown",
   "metadata": {},
   "source": [
    "## Cleanup\n",
    "In each of the notebooks reset the Jupyter kernel and clear output (at the top menu bar select \"Kernel\" and \"Restart & Clear Output\"). Close each notebook. Shutdown the notebook server by typing `ctrl+c` within the terminal you ran `jupyter-notebook` in. Select 'y'."
   ]
  }
 ],
 "metadata": {
  "kernelspec": {
   "display_name": "Python 3",
   "language": "python",
   "name": "python3"
  },
  "language_info": {
   "codemirror_mode": {
    "name": "ipython",
    "version": 3
   },
   "file_extension": ".py",
   "mimetype": "text/x-python",
   "name": "python",
   "nbconvert_exporter": "python",
   "pygments_lexer": "ipython3",
   "version": "3.8.10"
  },
  "toc": {
   "base_numbering": 1,
   "nav_menu": {},
   "number_sections": true,
   "sideBar": true,
   "skip_h1_title": false,
   "title_cell": "Table of Contents",
   "title_sidebar": "Contents",
   "toc_cell": false,
   "toc_position": {},
   "toc_section_display": true,
   "toc_window_display": false
  }
 },
 "nbformat": 4,
 "nbformat_minor": 5
}