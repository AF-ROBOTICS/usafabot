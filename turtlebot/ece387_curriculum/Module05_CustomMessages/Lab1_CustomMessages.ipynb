{
 "cells": [
  {
   "cell_type": "markdown",
   "id": "0df49199",
   "metadata": {},
   "source": [
    "# Lab 1: Custom Messages\n",
    "---"
   ]
  },
  {
   "cell_type": "markdown",
   "id": "f6762774",
   "metadata": {},
   "source": [
    "## Purpose\n",
    "This lab will provide practice in creating custom messages. You will send a custom message over a topic that will result in a printed message and the TurtleBot3 to output one of two note progressions (one increasing in pitch while the other decreases in pitch)"
   ]
  },
  {
   "cell_type": "markdown",
   "id": "5cdeaeb0",
   "metadata": {},
   "source": [
    "## Report\n",
    "Complete a short 2-3 page report that utilizes the format and answers the questions within the report template. The report template and an example report can be found within the Team under `Resources/Lab Template`."
   ]
  },
  {
   "cell_type": "markdown",
   "id": "e9dee89c",
   "metadata": {},
   "source": [
    "## Turn-in Requirements\n",
    "**[25 points]** Demonstration of keyboard control of USAFABot (preferably in person, but can be recorded and posted to Teams under the Lab1 channel).\n",
    "\n",
    "**[50 points]** Report via Gradescope.\n",
    "\n",
    "**[25 points]** Code: push your code to your repository. Also, include a screen shot of the **controller.py** and **usafabot_serial.py** files at the end of your report."
   ]
  }
 ],
 "metadata": {
  "kernelspec": {
   "display_name": "Python 3 (ipykernel)",
   "language": "python",
   "name": "python3"
  },
  "language_info": {
   "codemirror_mode": {
    "name": "ipython",
    "version": 3
   },
   "file_extension": ".py",
   "mimetype": "text/x-python",
   "name": "python",
   "nbconvert_exporter": "python",
   "pygments_lexer": "ipython3",
   "version": "3.8.10"
  },
  "toc": {
   "base_numbering": 1,
   "nav_menu": {
    "height": "339px",
    "width": "355px"
   },
   "number_sections": true,
   "sideBar": true,
   "skip_h1_title": true,
   "title_cell": "Table of Contents",
   "title_sidebar": "Contents",
   "toc_cell": false,
   "toc_position": {},
   "toc_section_display": true,
   "toc_window_display": true
  }
 },
 "nbformat": 4,
 "nbformat_minor": 5
}
