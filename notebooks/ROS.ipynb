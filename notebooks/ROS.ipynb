{
 "cells": [
  {
   "cell_type": "markdown",
   "id": "0fb93d9e",
   "metadata": {},
   "source": [
    "# Intro to ROS\n",
    "## ROS and Jupyter Test"
   ]
  },
  {
   "cell_type": "markdown",
   "id": "02454916",
   "metadata": {},
   "source": [
    "The first thing you have to do when operating with ROS is run roscore, which you can think of as the master that controls all communication in a ROS network. We set the master (the system running roscore) in the .bashrc file, a script that runs every time a new terminal is open. If we look at the bottom of the .bashrc file, we can see that the ROS_MASTER_URI is set to the master Raspberry Pi (the tail command displays the last 10 lines of a file):"
   ]
  },
  {
   "cell_type": "code",
   "execution_count": 1,
   "id": "b195e173",
   "metadata": {},
   "outputs": [
    {
     "name": "stdout",
     "output_type": "stream",
     "text": [
      "    . /etc/bash_completion\r\n",
      "  fi\r\n",
      "fi\r\n",
      "source /opt/ros/noetic/setup.bash\r\n",
      "source ~/robotics_ws/devel/setup.bash\r\n",
      "export ROS_PACKAGE_PATH=~/robotics_ws/src:/opt/ros/noetic/share\r\n",
      "export ROS_HOSTNAME=`hostname`\r\n",
      "export ROS_MASTER_URI=http://`hostname`:11311\r\n",
      "export EDITOR='nano -w'\r\n",
      "\r\n"
     ]
    }
   ],
   "source": [
    "!tail ~/.bashrc"
   ]
  },
  {
   "cell_type": "markdown",
   "id": "b545cd03",
   "metadata": {},
   "source": [
    "Open a terminal (ctrl+alt+t) and run the command: $roscore$"
   ]
  },
  {
   "cell_type": "code",
   "execution_count": 2,
   "id": "3a7926a1",
   "metadata": {},
   "outputs": [
    {
     "data": {
      "application/vnd.jupyter.widget-view+json": {
       "model_id": "a1c4c0ef9ec74af8aba232733b2059c8",
       "version_major": 2,
       "version_minor": 0
      },
      "text/plain": [
       "VBox(children=(HBox(children=(Label(value='data', layout=Layout(width='100px')), Text(value=''))), HBox(childr…"
      ]
     },
     "metadata": {},
     "output_type": "display_data"
    }
   ],
   "source": [
    "import rospy\n",
    "import jupyros as jr\n",
    "from std_msgs.msg import String\n",
    "\n",
    "rospy.init_node('test')\n",
    "jr.publish('/data', String)"
   ]
  },
  {
   "cell_type": "code",
   "execution_count": 3,
   "id": "2c02ea9e",
   "metadata": {},
   "outputs": [],
   "source": [
    "def cb(msg):\n",
    "    print(msg)"
   ]
  },
  {
   "cell_type": "code",
   "execution_count": 4,
   "id": "218d4aff",
   "metadata": {},
   "outputs": [
    {
     "data": {
      "application/vnd.jupyter.widget-view+json": {
       "model_id": "643ce81de926476cbb229592d0001f3a",
       "version_major": 2,
       "version_minor": 0
      },
      "text/plain": [
       "VBox(children=(HBox(children=(Button(description='Stop', style=ButtonStyle()),)), Output(layout=Layout(border=…"
      ]
     },
     "metadata": {},
     "output_type": "display_data"
    }
   ],
   "source": [
    "jr.subscribe('/data', String, cb)"
   ]
  },
  {
   "cell_type": "code",
   "execution_count": null,
   "id": "fc0e91d4",
   "metadata": {},
   "outputs": [],
   "source": []
  }
 ],
 "metadata": {
  "kernelspec": {
   "display_name": "Python 3 (ipykernel)",
   "language": "python",
   "name": "python3"
  },
  "language_info": {
   "codemirror_mode": {
    "name": "ipython",
    "version": 3
   },
   "file_extension": ".py",
   "mimetype": "text/x-python",
   "name": "python",
   "nbconvert_exporter": "python",
   "pygments_lexer": "ipython3",
   "version": "3.7.9"
  }
 },
 "nbformat": 4,
 "nbformat_minor": 5
}
