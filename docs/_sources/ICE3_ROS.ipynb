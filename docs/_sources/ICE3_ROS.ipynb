{
 "cells": [
  {
   "cell_type": "markdown",
   "id": "d871c004",
   "metadata": {},
   "source": [
    "# Module 3: Python3 for Robotics\n",
    "## In-Class Exercise 3 - ROS\n",
    "Below you will run ROS commands. The \"!\" character in the front allows us to run bash commands from Jupyter and would **NOT** be used in the command line.\n",
    "\n",
    "With the client and server nodes running execute the below commands."
   ]
  },
  {
   "cell_type": "markdown",
   "id": "42736179",
   "metadata": {},
   "source": [
    "List all running nodes:"
   ]
  },
  {
   "cell_type": "code",
   "execution_count": null,
   "id": "e3e0c10b",
   "metadata": {},
   "outputs": [],
   "source": [
    "!"
   ]
  },
  {
   "cell_type": "markdown",
   "id": "44b1a17e",
   "metadata": {},
   "source": [
    "List the active topics:"
   ]
  },
  {
   "cell_type": "code",
   "execution_count": null,
   "id": "aa0cea23",
   "metadata": {},
   "outputs": [],
   "source": [
    "!"
   ]
  },
  {
   "cell_type": "markdown",
   "id": "534818ed",
   "metadata": {},
   "source": [
    "Display running nodes and communication between them:"
   ]
  },
  {
   "cell_type": "code",
   "execution_count": null,
   "id": "79403dfc",
   "metadata": {},
   "outputs": [],
   "source": [
    "!"
   ]
  },
  {
   "cell_type": "markdown",
   "id": "6b6376a8",
   "metadata": {},
   "source": [
    "Exit the rqt_graph.\n",
    "\n",
    "Show information about a the **/client** topic such as what type of messages are sent over the topic and publishing and subscribing nodes."
   ]
  },
  {
   "cell_type": "code",
   "execution_count": null,
   "id": "8c494e17",
   "metadata": {},
   "outputs": [],
   "source": [
    "!"
   ]
  },
  {
   "cell_type": "markdown",
   "id": "508de0be",
   "metadata": {},
   "source": [
    "Display information about the message that is sent over the **/client** topic."
   ]
  },
  {
   "cell_type": "code",
   "execution_count": null,
   "id": "bbac2907",
   "metadata": {},
   "outputs": [],
   "source": [
    "!"
   ]
  },
  {
   "cell_type": "markdown",
   "id": "bde66580",
   "metadata": {},
   "source": [
    "Display messages sent over the **/client** topic:"
   ]
  },
  {
   "cell_type": "code",
   "execution_count": 1,
   "id": "80842771",
   "metadata": {},
   "outputs": [],
   "source": [
    "!"
   ]
  },
  {
   "cell_type": "markdown",
   "id": "131bbd5d",
   "metadata": {},
   "source": [
    "In the ICE3_Client notebook when you send a message you should see the message echoed above.\n",
    "\n",
    "## Checkpoint\n",
    "Once complete, get checked off by an instructor showing the output of each of the above."
   ]
  },
  {
   "cell_type": "markdown",
   "id": "b156b806",
   "metadata": {},
   "source": [
    "## Cleanup\n",
    "In each of the notebooks reset the Jupter kernel and clear output. Close each notebook. Shutdown the notebook server by typing `ctrl+c` within the terminal you ran `jupyter-notebook` in. Select 'y'."
   ]
  }
 ],
 "metadata": {
  "kernelspec": {
   "display_name": "Python 3 (ipykernel)",
   "language": "python",
   "name": "python3"
  },
  "language_info": {
   "codemirror_mode": {
    "name": "ipython",
    "version": 3
   },
   "file_extension": ".py",
   "mimetype": "text/x-python",
   "name": "python",
   "nbconvert_exporter": "python",
   "pygments_lexer": "ipython3",
   "version": "3.8.10"
  },
  "toc": {
   "base_numbering": 1,
   "nav_menu": {},
   "number_sections": true,
   "sideBar": true,
   "skip_h1_title": false,
   "title_cell": "Table of Contents",
   "title_sidebar": "Contents",
   "toc_cell": false,
   "toc_position": {},
   "toc_section_display": true,
   "toc_window_display": false
  }
 },
 "nbformat": 4,
 "nbformat_minor": 5
}
